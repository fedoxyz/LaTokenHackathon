{
  "nbformat": 4,
  "nbformat_minor": 0,
  "metadata": {
    "colab": {
      "provenance": [],
      "gpuType": "T4"
    },
    "kernelspec": {
      "name": "python3",
      "display_name": "Python 3"
    },
    "language_info": {
      "name": "python"
    },
    "accelerator": "GPU"
  },
  "cells": [
    {
      "cell_type": "code",
      "source": [
        "!pip install unsloth"
      ],
      "metadata": {
        "id": "xFYgOHWKgPIb"
      },
      "execution_count": null,
      "outputs": []
    },
    {
      "cell_type": "code",
      "source": [
        "!pip install fastapi uvicorn pyngrok"
      ],
      "metadata": {
        "id": "4-UtMYM3gL65"
      },
      "execution_count": null,
      "outputs": []
    },
    {
      "cell_type": "code",
      "source": [
        "!pip install -U bitsandbytes"
      ],
      "metadata": {
        "id": "Au9EVOoHgN1J"
      },
      "execution_count": null,
      "outputs": []
    },
    {
      "cell_type": "code",
      "source": [
        "from fastapi import FastAPI\n",
        "import torch\n",
        "from unsloth import FastLanguageModel\n",
        "import uvicorn\n",
        "from datetime import datetime\n",
        "from pyngrok import ngrok"
      ],
      "metadata": {
        "id": "YUYIe7FL3po6",
        "colab": {
          "base_uri": "https://localhost:8080/"
        },
        "outputId": "d224e68e-fe70-4215-ca4b-cad88480a2b6"
      },
      "execution_count": 4,
      "outputs": [
        {
          "output_type": "stream",
          "name": "stdout",
          "text": [
            "🦥 Unsloth: Will patch your computer to enable 2x faster free finetuning.\n",
            "🦥 Unsloth Zoo will now patch everything to make training faster!\n"
          ]
        }
      ]
    },
    {
      "cell_type": "code",
      "source": [
        "model, tokenizer = FastLanguageModel.from_pretrained(\n",
        "    model_name = \"t8ix/lora_latoken_llama_new\",\n",
        "    max_seq_length = 2048,\n",
        "    dtype = None,\n",
        "    load_in_4bit = True,\n",
        ")\n",
        "\n",
        "FastLanguageModel.for_inference(model)"
      ],
      "metadata": {
        "id": "iJW2o8tYgIUp"
      },
      "execution_count": null,
      "outputs": []
    },
    {
      "cell_type": "code",
      "execution_count": 13,
      "metadata": {
        "id": "4RYZSa2l1JAb"
      },
      "outputs": [],
      "source": [
        "app = FastAPI()\n",
        "\n",
        "model = model.to(\"cuda\")"
      ]
    },
    {
      "cell_type": "code",
      "source": [
        "from getpass import getpass\n",
        "ngrok_token = getpass('Enter your ngrok token: ')\n",
        "\n",
        "!ngrok authtoken {ngrok_token}"
      ],
      "metadata": {
        "colab": {
          "base_uri": "https://localhost:8080/"
        },
        "id": "1iYg5or8Cwdq",
        "outputId": "e3ecbd15-14a5-4946-d1a0-1218b088e6ee"
      },
      "execution_count": 7,
      "outputs": [
        {
          "output_type": "stream",
          "name": "stdout",
          "text": [
            "Enter your ngrok token: ··········\n",
            "Authtoken saved to configuration file: /root/.config/ngrok/ngrok.yml\n"
          ]
        }
      ]
    },
    {
      "cell_type": "code",
      "source": [
        "# Start ngrok tunnel\n",
        "public_url = ngrok.connect(8000)\n",
        "print(f\"Public URL: {public_url}\")"
      ],
      "metadata": {
        "id": "VgomyzatgRe0"
      },
      "execution_count": null,
      "outputs": []
    },
    {
      "cell_type": "code",
      "source": [
        "from pydantic import BaseModel\n",
        "class Message(BaseModel):\n",
        "    message: str"
      ],
      "metadata": {
        "id": "aVChj7E1ECA4"
      },
      "execution_count": 9,
      "outputs": []
    },
    {
      "cell_type": "code",
      "source": [
        "from unsloth.chat_templates import get_chat_template\n",
        "\n",
        "# Assuming `tokenizer` is already defined\n",
        "tokenizer = get_chat_template(\n",
        "    tokenizer,\n",
        "    mapping={\"role\": \"from\", \"content\": \"value\", \"user\": \"human\", \"assistant\": \"gpt\"},\n",
        "    chat_template=\"chatml\",\n",
        ")"
      ],
      "metadata": {
        "colab": {
          "base_uri": "https://localhost:8080/"
        },
        "id": "jw94rOhAFX4P",
        "outputId": "dd0f0a7b-d977-417e-a529-05a2d0378581"
      },
      "execution_count": 10,
      "outputs": [
        {
          "output_type": "stream",
          "name": "stderr",
          "text": [
            "Unsloth: Will map <|im_end|> to EOS = <|end_of_text|>.\n"
          ]
        }
      ]
    },
    {
      "cell_type": "code",
      "source": [
        "messages = [\n",
        "    {\"from\": \"human\", \"value\": \"Хочу зарегистрироваться на хакатон? Где это можно сделать?\"},\n",
        "    ]\n",
        "\n",
        "\n",
        "inputs = tokenizer.apply_chat_template(\n",
        "    messages,\n",
        "    tokenize=True,\n",
        "    add_generation_prompt=True,\n",
        "    return_tensors=\"pt\",\n",
        ").to(\"cuda\")\n",
        "\n",
        "response = model.generate(input_ids=inputs, max_new_tokens=248)"
      ],
      "metadata": {
        "id": "euyHhapwYSrF"
      },
      "execution_count": null,
      "outputs": []
    },
    {
      "cell_type": "code",
      "source": [
        "tokenizer.decode(response[0], skip_special_tokens=True)"
      ],
      "metadata": {
        "id": "m2YBjABVgGCA"
      },
      "execution_count": null,
      "outputs": []
    },
    {
      "cell_type": "code",
      "source": [
        "@app.post(\"/generate\")\n",
        "async def generate(payload: Message):\n",
        "\n",
        "    messages = [\n",
        "    {\"from\": \"human\", \"value\": payload.message},\n",
        "    ]\n",
        "\n",
        "    inputs = tokenizer.apply_chat_template(\n",
        "    messages,\n",
        "    tokenize=True,\n",
        "    add_generation_prompt=True,\n",
        "    return_tensors=\"pt\",\n",
        "    ).to(\"cuda\")\n",
        "\n",
        "    response = model.generate(input_ids=inputs, max_new_tokens=512)\n",
        "    return {\"response\": tokenizer.decode(response[0], skip_special_tokens=True).split(\"<|im_start|>assistant\\n\")[-1]}"
      ],
      "metadata": {
        "id": "FoL3UxtH3uUZ"
      },
      "execution_count": 14,
      "outputs": []
    },
    {
      "cell_type": "code",
      "source": [
        "import nest_asyncio\n",
        "nest_asyncio.apply()\n",
        "\n",
        "if __name__ == \"__main__\":\n",
        "    uvicorn.run(app, host=\"0.0.0.0\", port=8000)"
      ],
      "metadata": {
        "colab": {
          "base_uri": "https://localhost:8080/"
        },
        "id": "Hm-FTPX1JamN",
        "outputId": "9b218501-a2f8-4887-da72-48d164bfc566"
      },
      "execution_count": 17,
      "outputs": [
        {
          "output_type": "stream",
          "name": "stderr",
          "text": [
            "INFO:     Started server process [1324]\n",
            "INFO:     Waiting for application startup.\n",
            "INFO:     Application startup complete.\n",
            "INFO:     Uvicorn running on http://0.0.0.0:8000 (Press CTRL+C to quit)\n"
          ]
        },
        {
          "output_type": "stream",
          "name": "stdout",
          "text": [
            "INFO:     186.78.16.65:0 - \"POST /generate HTTP/1.1\" 200 OK\n",
            "INFO:     186.78.16.65:0 - \"POST /generate HTTP/1.1\" 200 OK\n",
            "INFO:     186.78.16.65:0 - \"POST /generate HTTP/1.1\" 200 OK\n"
          ]
        },
        {
          "output_type": "stream",
          "name": "stderr",
          "text": [
            "WARNING:pyngrok.process.ngrok:t=2025-01-18T08:20:17+0000 lvl=warn msg=\"Stopping forwarder\" name=http-8000-b98a81d1-8bec-4c01-b682-a356476ccf49 acceptErr=\"failed to accept connection: Listener closed\"\n",
            "WARNING:pyngrok.process.ngrok:t=2025-01-18T08:20:17+0000 lvl=warn msg=\"Error restarting forwarder\" name=http-8000-b98a81d1-8bec-4c01-b682-a356476ccf49 err=\"failed to start tunnel: session closed\"\n",
            "INFO:     Shutting down\n",
            "INFO:     Waiting for application shutdown.\n",
            "INFO:     Application shutdown complete.\n",
            "INFO:     Finished server process [1324]\n"
          ]
        }
      ]
    }
  ]
}